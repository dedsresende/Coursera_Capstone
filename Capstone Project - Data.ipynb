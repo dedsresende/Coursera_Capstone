{
 "cells": [
  {
   "cell_type": "markdown",
   "metadata": {},
   "source": [
    "#### Tools"
   ]
  },
  {
   "cell_type": "code",
   "execution_count": 1,
   "metadata": {},
   "outputs": [],
   "source": [
    "import pandas as pd"
   ]
  },
  {
   "cell_type": "markdown",
   "metadata": {},
   "source": [
    "# Moving by Data\n",
    "## A data driven district similarity analysis"
   ]
  },
  {
   "cell_type": "markdown",
   "metadata": {},
   "source": [
    "## Introduction\n",
    "\n",
    "### The problem:\n",
    "\n",
    "I've been living in the Ciutat Vella (Old Town) district in Barcelona for the past 6 years and I've decided to move to Paris by the end of the year.\n",
    "Ciutat Vella is one of the most traditional districts in Barcelona and what makes me like to live here is the diversity of activities that the district offers among museums, restaurants, bars, cafes, galleries and shops. You candefinetly find anything you want in a maximum of 10 or 15 minutes walking.\n",
    "Even though the acitivities aspect of the district attracts me a lot, Iwould also consider living in a less dense place with less people living and more open spaces.\n",
    "So the main question is, using data, how to choose among the 22 districts in Paris which one would suite more my needings.\n",
    "\n",
    "### The methodology:\n",
    "Using the data of districts of Barcelona and Paris from *Wikipedia* and the Foursquare API data, the idea is to Cluster Barcelona Districts and fit the districts of Paris in the same model finding similar clusters. Once all districts are labeled understand which one offers the best balance between activities diversity and population density among them.\n",
    "\n",
    "### The data:\n",
    "- <a href=\"https://es.wikipedia.org/wiki/Distritos_de_Barcelona\">Districts of Barcelona</a>\n",
    "- <a href=\"https://es.wikipedia.org/wiki/Distritos_de_Par%C3%ADs\">Districts of Paris</a>\n",
    "- Foursquare venues from Barcelona\n",
    "- Foursquare venues from Paris"
   ]
  },
  {
   "cell_type": "markdown",
   "metadata": {},
   "source": [
    "### Districts of Barcelona"
   ]
  },
  {
   "cell_type": "code",
   "execution_count": 2,
   "metadata": {},
   "outputs": [
    {
     "data": {
      "text/html": [
       "<div>\n",
       "<style scoped>\n",
       "    .dataframe tbody tr th:only-of-type {\n",
       "        vertical-align: middle;\n",
       "    }\n",
       "\n",
       "    .dataframe tbody tr th {\n",
       "        vertical-align: top;\n",
       "    }\n",
       "\n",
       "    .dataframe thead th {\n",
       "        text-align: right;\n",
       "    }\n",
       "</style>\n",
       "<table border=\"1\" class=\"dataframe\">\n",
       "  <thead>\n",
       "    <tr style=\"text-align: right;\">\n",
       "      <th></th>\n",
       "      <th>code</th>\n",
       "      <th>name</th>\n",
       "      <th>area</th>\n",
       "      <th>population</th>\n",
       "    </tr>\n",
       "  </thead>\n",
       "  <tbody>\n",
       "    <tr>\n",
       "      <th>0</th>\n",
       "      <td>1</td>\n",
       "      <td>Ciutat Vella</td>\n",
       "      <td>4,11</td>\n",
       "      <td>103 429</td>\n",
       "    </tr>\n",
       "    <tr>\n",
       "      <th>1</th>\n",
       "      <td>2</td>\n",
       "      <td>Eixample</td>\n",
       "      <td>7,46</td>\n",
       "      <td>265 910</td>\n",
       "    </tr>\n",
       "    <tr>\n",
       "      <th>2</th>\n",
       "      <td>3</td>\n",
       "      <td>Sants-Montjuïc</td>\n",
       "      <td>22,68</td>\n",
       "      <td>184 091</td>\n",
       "    </tr>\n",
       "    <tr>\n",
       "      <th>3</th>\n",
       "      <td>4</td>\n",
       "      <td>Les Corts</td>\n",
       "      <td>6,02</td>\n",
       "      <td>81 974</td>\n",
       "    </tr>\n",
       "    <tr>\n",
       "      <th>4</th>\n",
       "      <td>5</td>\n",
       "      <td>Sarrià-Sant Gervasi</td>\n",
       "      <td>19,91</td>\n",
       "      <td>149 260</td>\n",
       "    </tr>\n",
       "  </tbody>\n",
       "</table>\n",
       "</div>"
      ],
      "text/plain": [
       "   code                 name   area population\n",
       "0     1         Ciutat Vella   4,11    103 429\n",
       "1     2             Eixample   7,46    265 910\n",
       "2     3       Sants-Montjuïc  22,68    184 091\n",
       "3     4            Les Corts   6,02     81 974\n",
       "4     5  Sarrià-Sant Gervasi  19,91    149 260"
      ]
     },
     "execution_count": 2,
     "metadata": {},
     "output_type": "execute_result"
    }
   ],
   "source": [
    "dfBCN = pd.read_csv('./data/barcelona_districts.csv')\n",
    "dfBCN.head()"
   ]
  },
  {
   "cell_type": "markdown",
   "metadata": {},
   "source": [
    "### Districts of Paris"
   ]
  },
  {
   "cell_type": "code",
   "execution_count": 3,
   "metadata": {},
   "outputs": [
    {
     "data": {
      "text/html": [
       "<div>\n",
       "<style scoped>\n",
       "    .dataframe tbody tr th:only-of-type {\n",
       "        vertical-align: middle;\n",
       "    }\n",
       "\n",
       "    .dataframe tbody tr th {\n",
       "        vertical-align: top;\n",
       "    }\n",
       "\n",
       "    .dataframe thead th {\n",
       "        text-align: right;\n",
       "    }\n",
       "</style>\n",
       "<table border=\"1\" class=\"dataframe\">\n",
       "  <thead>\n",
       "    <tr style=\"text-align: right;\">\n",
       "      <th></th>\n",
       "      <th>code</th>\n",
       "      <th>name</th>\n",
       "      <th>area</th>\n",
       "      <th>population</th>\n",
       "    </tr>\n",
       "  </thead>\n",
       "  <tbody>\n",
       "    <tr>\n",
       "      <th>0</th>\n",
       "      <td>I distrito (D)</td>\n",
       "      <td>Louvre</td>\n",
       "      <td>1826</td>\n",
       "      <td>16 888</td>\n",
       "    </tr>\n",
       "    <tr>\n",
       "      <th>1</th>\n",
       "      <td>II distrito (D)</td>\n",
       "      <td>Bourse</td>\n",
       "      <td>992</td>\n",
       "      <td>19 585</td>\n",
       "    </tr>\n",
       "    <tr>\n",
       "      <th>2</th>\n",
       "      <td>III distrito (D)</td>\n",
       "      <td>Temple</td>\n",
       "      <td>1171</td>\n",
       "      <td>34 248</td>\n",
       "    </tr>\n",
       "    <tr>\n",
       "      <th>3</th>\n",
       "      <td>IV distrito (D)</td>\n",
       "      <td>Hôtel-de-Ville</td>\n",
       "      <td>1601</td>\n",
       "      <td>30 675</td>\n",
       "    </tr>\n",
       "    <tr>\n",
       "      <th>4</th>\n",
       "      <td>V distrito (I)</td>\n",
       "      <td>Panthéon</td>\n",
       "      <td>2541</td>\n",
       "      <td>58 849</td>\n",
       "    </tr>\n",
       "  </tbody>\n",
       "</table>\n",
       "</div>"
      ],
      "text/plain": [
       "               code            name  area population\n",
       "0    I distrito (D)          Louvre  1826     16 888\n",
       "1   II distrito (D)          Bourse   992     19 585\n",
       "2  III distrito (D)          Temple  1171     34 248\n",
       "3   IV distrito (D)  Hôtel-de-Ville  1601     30 675\n",
       "4    V distrito (I)        Panthéon  2541     58 849"
      ]
     },
     "execution_count": 3,
     "metadata": {},
     "output_type": "execute_result"
    }
   ],
   "source": [
    "dfParis = pd.read_csv('./data/paris_districts.csv')\n",
    "dfParis.head()"
   ]
  },
  {
   "cell_type": "code",
   "execution_count": null,
   "metadata": {},
   "outputs": [],
   "source": []
  }
 ],
 "metadata": {
  "kernelspec": {
   "display_name": "Python 3",
   "language": "python",
   "name": "python3"
  },
  "language_info": {
   "codemirror_mode": {
    "name": "ipython",
    "version": 3
   },
   "file_extension": ".py",
   "mimetype": "text/x-python",
   "name": "python",
   "nbconvert_exporter": "python",
   "pygments_lexer": "ipython3",
   "version": "3.7.6"
  }
 },
 "nbformat": 4,
 "nbformat_minor": 4
}
