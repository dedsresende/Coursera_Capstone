{
 "cells": [
  {
   "cell_type": "markdown",
   "metadata": {},
   "source": [
    "# Moving by Data\n",
    "## A data driven district similarity analysis"
   ]
  },
  {
   "cell_type": "markdown",
   "metadata": {},
   "source": [
    "## Introduction\n",
    "\n",
    "### The problem:\n",
    "\n",
    "I've been living in the Ciutat Vella (Old Town) district in Barcelona for the past 6 years and I've decided to move to Paris by the end of the year.\n",
    "Ciutat Vella is one of the most traditional districts in Barcelona and what makes me like to live here is the diversity of activities that the district offers among museums, restaurants, bars, cafes, galleries and shops. You candefinetly find anything you want in a maximum of 10 or 15 minutes walking.\n",
    "Even though the acitivities aspect of the district attracts me a lot, Iwould also consider living in a less dense place with less people living and more open spaces.\n",
    "So the main question is, using data, how to choose among the 22 districts in Paris which one would suite more my needings.\n",
    "\n",
    "### The methodology:\n",
    "Using the data of districts of Barcelona and Paris from *Wikipedia* and the Foursquare API data, the idea is to Cluster Barcelona Districts and fit the districts of Paris in the same model finding similar clusters. Once all districts are labeled understand which one offers the best balance between activities diversity and population density among them."
   ]
  },
  {
   "cell_type": "code",
   "execution_count": null,
   "metadata": {},
   "outputs": [],
   "source": []
  }
 ],
 "metadata": {
  "kernelspec": {
   "display_name": "Python 3",
   "language": "python",
   "name": "python3"
  },
  "language_info": {
   "codemirror_mode": {
    "name": "ipython",
    "version": 3
   },
   "file_extension": ".py",
   "mimetype": "text/x-python",
   "name": "python",
   "nbconvert_exporter": "python",
   "pygments_lexer": "ipython3",
   "version": "3.7.6"
  }
 },
 "nbformat": 4,
 "nbformat_minor": 4
}
